{
 "cells": [
  {
   "cell_type": "markdown",
   "metadata": {},
   "source": [
    "<span style=\"color:#0808D6\"><center> <h1> <font size=\"5\"> DATA3406 Mini-Assignment 08 - 480377616  </font> </h1></center></span> \n",
    "\n",
    "<center> Group 4 - COVID 19 Analysis </center>"
   ]
  },
  {
   "cell_type": "markdown",
   "metadata": {},
   "source": [
    "***\n",
    "<div style=\"background-color:#054afa;\">\n",
    "<span style=\"color:#ffb908\"><center> <h1> Part 1 of Mini-Assignment </h1></center></span> "
   ]
  },
  {
   "cell_type": "markdown",
   "metadata": {},
   "source": [
    "**What I learnt from the *Intro to Pandas* notebook**:\n",
    "\n",
    "- The relationship between DataFrames and Series, where DataFrames can be considered as just a collection of Series.\n",
    "- That DataFrames can be made through a Python dictionary that maps a key (variables) to particular values (data entries)\n",
    "- That NumPy operations can be applied across an entire series - this can be helpful if log-transformations or other manipulations are needed for data visualiation in Assignment 2\n",
    "- That NumPy transformations can also be filtered to only apply for values in Series that fulfill a certain condition (condition is represented through lambda value). This can also be helpful if we want to only filter out death/case numbers for example that exceed a certain pre-defined threshold"
   ]
  },
  {
   "cell_type": "markdown",
   "metadata": {},
   "source": [
    "**What I learnt from the *Charts* notebook**:\n",
    "\n",
    "- The construction of stack plots and pie charts using `matplotlib`. However, I do not think I will use these graphs as there are probably better alternatives for more transparent visualisations (e.g. line graph over stack plot and barplot over pie chart).\n",
    "\n",
    "- How subplotting works using `subplot2grid`. This can be really useful if we want a side-by-side comparison of different variables that may have different scales from each other over a certain independent variable (e.g. death rate, government stringency index over time).\n",
    "\n",
    "- How to make 3D Graphs. However, I do not think I will be utilising 3D graphs much in Assignment 2 since they can be difficult to interpret, involving multiple dimensions.\n",
    "\n",
    "- How to make interactive plots! I though this was really useful since interactive plots can make the data more transparent for users who might want to inspect different areas of the plot or examine particular data points."
   ]
  },
  {
   "cell_type": "markdown",
   "metadata": {},
   "source": [
    "***\n",
    "<div style=\"background-color:#054afa;\">\n",
    "<span style=\"color:#ffb908\"><center> <h1> Part 2 of Mini-Assignment </h1></center></span> "
   ]
  },
  {
   "cell_type": "markdown",
   "metadata": {},
   "source": [
    "<div style=\"background-color:#EFEEDF;\">\n",
    "<span style=\"color:maroon\"><center> <h1> 1. Introduction and Background Information </h1></center></span> "
   ]
  },
  {
   "cell_type": "markdown",
   "metadata": {},
   "source": [
    "## 1.1 Description of the Dataset"
   ]
  },
  {
   "cell_type": "markdown",
   "metadata": {},
   "source": [
    "The dataset that will be explored contains an extensive summary of COVID-19 data (e.g. cases, deaths, and testing) across the world. It is managed by the online publisher *Our World in Data*, which updates their COVID-19 dataset on a **daily basis**. They collect their data predominantly from the *European Center for Disease Prevention and Control* (ECDC)\n",
    "\n",
    "For this Mini-Assignment, I will be focusing on the trends and patterns prevalent in **Germany**. After exploring some of their statistics in mangaging the COVID-19 situation, I will then compare Germany's response to China's response (the location of the first outbreak) and Australia's response to COVID-19."
   ]
  },
  {
   "cell_type": "markdown",
   "metadata": {},
   "source": [
    "***\n",
    "<div style=\"background-color:#EFEEDF;\">\n",
    "<span style=\"color:maroon\"><center> <h1> 2. Data Reading and Cleaning </h1></center></span>"
   ]
  },
  {
   "cell_type": "markdown",
   "metadata": {},
   "source": [
    "## 2.1 Reading the Data"
   ]
  },
  {
   "cell_type": "markdown",
   "metadata": {},
   "source": [
    "Firstly, we will import our necessary libraries and then read in our .CSV file."
   ]
  },
  {
   "cell_type": "code",
   "execution_count": 1,
   "metadata": {},
   "outputs": [],
   "source": [
    "#Importing necessary libraries\n",
    "import pandas as pd\n",
    "import numpy as np\n",
    "import matplotlib.pyplot as plt\n",
    "import seaborn as sns\n",
    "import warnings"
   ]
  },
  {
   "cell_type": "code",
   "execution_count": 2,
   "metadata": {},
   "outputs": [],
   "source": [
    "#Reading .CSV file\n",
    "df = pd.read_csv(\"owid-covid-data.csv\")"
   ]
  },
  {
   "cell_type": "code",
   "execution_count": 3,
   "metadata": {},
   "outputs": [
    {
     "data": {
      "text/html": [
       "<div>\n",
       "<style scoped>\n",
       "    .dataframe tbody tr th:only-of-type {\n",
       "        vertical-align: middle;\n",
       "    }\n",
       "\n",
       "    .dataframe tbody tr th {\n",
       "        vertical-align: top;\n",
       "    }\n",
       "\n",
       "    .dataframe thead th {\n",
       "        text-align: right;\n",
       "    }\n",
       "</style>\n",
       "<table border=\"1\" class=\"dataframe\">\n",
       "  <thead>\n",
       "    <tr style=\"text-align: right;\">\n",
       "      <th></th>\n",
       "      <th>iso_code</th>\n",
       "      <th>continent</th>\n",
       "      <th>location</th>\n",
       "      <th>date</th>\n",
       "      <th>total_cases</th>\n",
       "      <th>new_cases</th>\n",
       "      <th>new_cases_smoothed</th>\n",
       "      <th>total_deaths</th>\n",
       "      <th>new_deaths</th>\n",
       "      <th>new_deaths_smoothed</th>\n",
       "      <th>...</th>\n",
       "      <th>gdp_per_capita</th>\n",
       "      <th>extreme_poverty</th>\n",
       "      <th>cardiovasc_death_rate</th>\n",
       "      <th>diabetes_prevalence</th>\n",
       "      <th>female_smokers</th>\n",
       "      <th>male_smokers</th>\n",
       "      <th>handwashing_facilities</th>\n",
       "      <th>hospital_beds_per_thousand</th>\n",
       "      <th>life_expectancy</th>\n",
       "      <th>human_development_index</th>\n",
       "    </tr>\n",
       "  </thead>\n",
       "  <tbody>\n",
       "    <tr>\n",
       "      <th>0</th>\n",
       "      <td>ABW</td>\n",
       "      <td>North America</td>\n",
       "      <td>Aruba</td>\n",
       "      <td>2020-03-13</td>\n",
       "      <td>2.0</td>\n",
       "      <td>2.0</td>\n",
       "      <td>NaN</td>\n",
       "      <td>0.0</td>\n",
       "      <td>0.0</td>\n",
       "      <td>NaN</td>\n",
       "      <td>...</td>\n",
       "      <td>35973.781</td>\n",
       "      <td>NaN</td>\n",
       "      <td>NaN</td>\n",
       "      <td>11.62</td>\n",
       "      <td>NaN</td>\n",
       "      <td>NaN</td>\n",
       "      <td>NaN</td>\n",
       "      <td>NaN</td>\n",
       "      <td>76.29</td>\n",
       "      <td>NaN</td>\n",
       "    </tr>\n",
       "    <tr>\n",
       "      <th>1</th>\n",
       "      <td>ABW</td>\n",
       "      <td>North America</td>\n",
       "      <td>Aruba</td>\n",
       "      <td>2020-03-19</td>\n",
       "      <td>NaN</td>\n",
       "      <td>NaN</td>\n",
       "      <td>0.286</td>\n",
       "      <td>NaN</td>\n",
       "      <td>NaN</td>\n",
       "      <td>0.0</td>\n",
       "      <td>...</td>\n",
       "      <td>35973.781</td>\n",
       "      <td>NaN</td>\n",
       "      <td>NaN</td>\n",
       "      <td>11.62</td>\n",
       "      <td>NaN</td>\n",
       "      <td>NaN</td>\n",
       "      <td>NaN</td>\n",
       "      <td>NaN</td>\n",
       "      <td>76.29</td>\n",
       "      <td>NaN</td>\n",
       "    </tr>\n",
       "    <tr>\n",
       "      <th>2</th>\n",
       "      <td>ABW</td>\n",
       "      <td>North America</td>\n",
       "      <td>Aruba</td>\n",
       "      <td>2020-03-20</td>\n",
       "      <td>4.0</td>\n",
       "      <td>2.0</td>\n",
       "      <td>0.286</td>\n",
       "      <td>0.0</td>\n",
       "      <td>0.0</td>\n",
       "      <td>0.0</td>\n",
       "      <td>...</td>\n",
       "      <td>35973.781</td>\n",
       "      <td>NaN</td>\n",
       "      <td>NaN</td>\n",
       "      <td>11.62</td>\n",
       "      <td>NaN</td>\n",
       "      <td>NaN</td>\n",
       "      <td>NaN</td>\n",
       "      <td>NaN</td>\n",
       "      <td>76.29</td>\n",
       "      <td>NaN</td>\n",
       "    </tr>\n",
       "    <tr>\n",
       "      <th>3</th>\n",
       "      <td>ABW</td>\n",
       "      <td>North America</td>\n",
       "      <td>Aruba</td>\n",
       "      <td>2020-03-21</td>\n",
       "      <td>NaN</td>\n",
       "      <td>NaN</td>\n",
       "      <td>0.286</td>\n",
       "      <td>NaN</td>\n",
       "      <td>NaN</td>\n",
       "      <td>0.0</td>\n",
       "      <td>...</td>\n",
       "      <td>35973.781</td>\n",
       "      <td>NaN</td>\n",
       "      <td>NaN</td>\n",
       "      <td>11.62</td>\n",
       "      <td>NaN</td>\n",
       "      <td>NaN</td>\n",
       "      <td>NaN</td>\n",
       "      <td>NaN</td>\n",
       "      <td>76.29</td>\n",
       "      <td>NaN</td>\n",
       "    </tr>\n",
       "    <tr>\n",
       "      <th>4</th>\n",
       "      <td>ABW</td>\n",
       "      <td>North America</td>\n",
       "      <td>Aruba</td>\n",
       "      <td>2020-03-22</td>\n",
       "      <td>NaN</td>\n",
       "      <td>NaN</td>\n",
       "      <td>0.286</td>\n",
       "      <td>NaN</td>\n",
       "      <td>NaN</td>\n",
       "      <td>0.0</td>\n",
       "      <td>...</td>\n",
       "      <td>35973.781</td>\n",
       "      <td>NaN</td>\n",
       "      <td>NaN</td>\n",
       "      <td>11.62</td>\n",
       "      <td>NaN</td>\n",
       "      <td>NaN</td>\n",
       "      <td>NaN</td>\n",
       "      <td>NaN</td>\n",
       "      <td>76.29</td>\n",
       "      <td>NaN</td>\n",
       "    </tr>\n",
       "  </tbody>\n",
       "</table>\n",
       "<p>5 rows × 41 columns</p>\n",
       "</div>"
      ],
      "text/plain": [
       "  iso_code      continent location        date  total_cases  new_cases  \\\n",
       "0      ABW  North America    Aruba  2020-03-13          2.0        2.0   \n",
       "1      ABW  North America    Aruba  2020-03-19          NaN        NaN   \n",
       "2      ABW  North America    Aruba  2020-03-20          4.0        2.0   \n",
       "3      ABW  North America    Aruba  2020-03-21          NaN        NaN   \n",
       "4      ABW  North America    Aruba  2020-03-22          NaN        NaN   \n",
       "\n",
       "   new_cases_smoothed  total_deaths  new_deaths  new_deaths_smoothed  \\\n",
       "0                 NaN           0.0         0.0                  NaN   \n",
       "1               0.286           NaN         NaN                  0.0   \n",
       "2               0.286           0.0         0.0                  0.0   \n",
       "3               0.286           NaN         NaN                  0.0   \n",
       "4               0.286           NaN         NaN                  0.0   \n",
       "\n",
       "            ...             gdp_per_capita  extreme_poverty  \\\n",
       "0           ...                  35973.781              NaN   \n",
       "1           ...                  35973.781              NaN   \n",
       "2           ...                  35973.781              NaN   \n",
       "3           ...                  35973.781              NaN   \n",
       "4           ...                  35973.781              NaN   \n",
       "\n",
       "   cardiovasc_death_rate  diabetes_prevalence  female_smokers  male_smokers  \\\n",
       "0                    NaN                11.62             NaN           NaN   \n",
       "1                    NaN                11.62             NaN           NaN   \n",
       "2                    NaN                11.62             NaN           NaN   \n",
       "3                    NaN                11.62             NaN           NaN   \n",
       "4                    NaN                11.62             NaN           NaN   \n",
       "\n",
       "   handwashing_facilities  hospital_beds_per_thousand  life_expectancy  \\\n",
       "0                     NaN                         NaN            76.29   \n",
       "1                     NaN                         NaN            76.29   \n",
       "2                     NaN                         NaN            76.29   \n",
       "3                     NaN                         NaN            76.29   \n",
       "4                     NaN                         NaN            76.29   \n",
       "\n",
       "   human_development_index  \n",
       "0                      NaN  \n",
       "1                      NaN  \n",
       "2                      NaN  \n",
       "3                      NaN  \n",
       "4                      NaN  \n",
       "\n",
       "[5 rows x 41 columns]"
      ]
     },
     "execution_count": 3,
     "metadata": {},
     "output_type": "execute_result"
    }
   ],
   "source": [
    "#Taking a glimpse of some of the data\n",
    "df.head()"
   ]
  },
  {
   "cell_type": "markdown",
   "metadata": {},
   "source": [
    "There appears to be many columns/variables in this DataFrame. Let's try to inspect all of them at once."
   ]
  },
  {
   "cell_type": "code",
   "execution_count": 4,
   "metadata": {},
   "outputs": [],
   "source": [
    "#Creating a list of all the column names\n",
    "#list(df.columns)"
   ]
  },
  {
   "cell_type": "markdown",
   "metadata": {},
   "source": [
    "## 2.2 Cleaning the Data"
   ]
  },
  {
   "cell_type": "markdown",
   "metadata": {},
   "source": [
    "On first inspection, it appears that the dataset from OWID has already been cleaned. That is, all missing numerical values are represented as `NaN`,which is appropriate compared to other cleaning methods (e.g. replacing missing data with 0 or `None` objects).\n",
    "\n",
    "However, we will just double check that there is no missing data relating to qualitative values (e.g. `iso_code`)."
   ]
  },
  {
   "cell_type": "code",
   "execution_count": 5,
   "metadata": {},
   "outputs": [
    {
     "data": {
      "text/plain": [
       "['iso_code', 'continent', 'date', 'tests_units', 'location']"
      ]
     },
     "execution_count": 5,
     "metadata": {},
     "output_type": "execute_result"
    }
   ],
   "source": [
    "#Column names\n",
    "cols = df.columns\n",
    "\n",
    "#First, collect index of numerical columns\n",
    "num_cols = df._get_numeric_data().columns\n",
    "\n",
    "#Now, subtract the column index with indices of numerical columns for qualitative\n",
    "list(set(cols) - set(num_cols))"
   ]
  },
  {
   "cell_type": "markdown",
   "metadata": {},
   "source": [
    "There seems to be only five variables that are categorical in nature. Hence, we will check whether these columns have any missing values."
   ]
  },
  {
   "cell_type": "code",
   "execution_count": 6,
   "metadata": {},
   "outputs": [
    {
     "data": {
      "text/html": [
       "<div>\n",
       "<style scoped>\n",
       "    .dataframe tbody tr th:only-of-type {\n",
       "        vertical-align: middle;\n",
       "    }\n",
       "\n",
       "    .dataframe tbody tr th {\n",
       "        vertical-align: top;\n",
       "    }\n",
       "\n",
       "    .dataframe thead th {\n",
       "        text-align: right;\n",
       "    }\n",
       "</style>\n",
       "<table border=\"1\" class=\"dataframe\">\n",
       "  <thead>\n",
       "    <tr style=\"text-align: right;\">\n",
       "      <th></th>\n",
       "      <th>iso_code</th>\n",
       "      <th>continent</th>\n",
       "      <th>location</th>\n",
       "      <th>date</th>\n",
       "      <th>tests_units</th>\n",
       "    </tr>\n",
       "  </thead>\n",
       "  <tbody>\n",
       "    <tr>\n",
       "      <th>50085</th>\n",
       "      <td>NaN</td>\n",
       "      <td>NaN</td>\n",
       "      <td>International</td>\n",
       "      <td>2020-10-10</td>\n",
       "      <td>NaN</td>\n",
       "    </tr>\n",
       "    <tr>\n",
       "      <th>50086</th>\n",
       "      <td>NaN</td>\n",
       "      <td>NaN</td>\n",
       "      <td>International</td>\n",
       "      <td>2020-10-11</td>\n",
       "      <td>NaN</td>\n",
       "    </tr>\n",
       "    <tr>\n",
       "      <th>50087</th>\n",
       "      <td>NaN</td>\n",
       "      <td>NaN</td>\n",
       "      <td>International</td>\n",
       "      <td>2020-10-12</td>\n",
       "      <td>NaN</td>\n",
       "    </tr>\n",
       "    <tr>\n",
       "      <th>50088</th>\n",
       "      <td>NaN</td>\n",
       "      <td>NaN</td>\n",
       "      <td>International</td>\n",
       "      <td>2020-10-13</td>\n",
       "      <td>NaN</td>\n",
       "    </tr>\n",
       "    <tr>\n",
       "      <th>50089</th>\n",
       "      <td>NaN</td>\n",
       "      <td>NaN</td>\n",
       "      <td>International</td>\n",
       "      <td>2020-10-14</td>\n",
       "      <td>NaN</td>\n",
       "    </tr>\n",
       "  </tbody>\n",
       "</table>\n",
       "</div>"
      ],
      "text/plain": [
       "      iso_code continent       location        date tests_units\n",
       "50085      NaN       NaN  International  2020-10-10         NaN\n",
       "50086      NaN       NaN  International  2020-10-11         NaN\n",
       "50087      NaN       NaN  International  2020-10-12         NaN\n",
       "50088      NaN       NaN  International  2020-10-13         NaN\n",
       "50089      NaN       NaN  International  2020-10-14         NaN"
      ]
     },
     "execution_count": 6,
     "metadata": {},
     "output_type": "execute_result"
    }
   ],
   "source": [
    "df_qual = df[['iso_code', 'continent', 'location', 'date', 'tests_units']]\n",
    "df_qual[df_qual.isna().any(axis = 1)].tail()"
   ]
  },
  {
   "cell_type": "markdown",
   "metadata": {},
   "source": [
    "As shown above, there are certain places without an associated country/area. As this information can be rather uninformative if we are doing a country analysis, we will remove rows which contain `NaN` values for `iso_code` or `continent`."
   ]
  },
  {
   "cell_type": "code",
   "execution_count": 7,
   "metadata": {},
   "outputs": [
    {
     "data": {
      "text/html": [
       "<div>\n",
       "<style scoped>\n",
       "    .dataframe tbody tr th:only-of-type {\n",
       "        vertical-align: middle;\n",
       "    }\n",
       "\n",
       "    .dataframe tbody tr th {\n",
       "        vertical-align: top;\n",
       "    }\n",
       "\n",
       "    .dataframe thead th {\n",
       "        text-align: right;\n",
       "    }\n",
       "</style>\n",
       "<table border=\"1\" class=\"dataframe\">\n",
       "  <thead>\n",
       "    <tr style=\"text-align: right;\">\n",
       "      <th></th>\n",
       "      <th>iso_code</th>\n",
       "      <th>continent</th>\n",
       "      <th>location</th>\n",
       "      <th>date</th>\n",
       "      <th>total_cases</th>\n",
       "      <th>new_cases</th>\n",
       "      <th>new_cases_smoothed</th>\n",
       "      <th>total_deaths</th>\n",
       "      <th>new_deaths</th>\n",
       "      <th>new_deaths_smoothed</th>\n",
       "      <th>...</th>\n",
       "      <th>gdp_per_capita</th>\n",
       "      <th>extreme_poverty</th>\n",
       "      <th>cardiovasc_death_rate</th>\n",
       "      <th>diabetes_prevalence</th>\n",
       "      <th>female_smokers</th>\n",
       "      <th>male_smokers</th>\n",
       "      <th>handwashing_facilities</th>\n",
       "      <th>hospital_beds_per_thousand</th>\n",
       "      <th>life_expectancy</th>\n",
       "      <th>human_development_index</th>\n",
       "    </tr>\n",
       "  </thead>\n",
       "  <tbody>\n",
       "    <tr>\n",
       "      <th>49507</th>\n",
       "      <td>ZWE</td>\n",
       "      <td>Africa</td>\n",
       "      <td>Zimbabwe</td>\n",
       "      <td>2020-10-10</td>\n",
       "      <td>7994.0</td>\n",
       "      <td>43.0</td>\n",
       "      <td>19.429</td>\n",
       "      <td>229.0</td>\n",
       "      <td>0.0</td>\n",
       "      <td>0.143</td>\n",
       "      <td>...</td>\n",
       "      <td>1899.775</td>\n",
       "      <td>21.4</td>\n",
       "      <td>307.846</td>\n",
       "      <td>1.82</td>\n",
       "      <td>1.6</td>\n",
       "      <td>30.7</td>\n",
       "      <td>36.791</td>\n",
       "      <td>1.7</td>\n",
       "      <td>61.49</td>\n",
       "      <td>0.535</td>\n",
       "    </tr>\n",
       "    <tr>\n",
       "      <th>49508</th>\n",
       "      <td>ZWE</td>\n",
       "      <td>Africa</td>\n",
       "      <td>Zimbabwe</td>\n",
       "      <td>2020-10-11</td>\n",
       "      <td>8010.0</td>\n",
       "      <td>16.0</td>\n",
       "      <td>17.857</td>\n",
       "      <td>230.0</td>\n",
       "      <td>1.0</td>\n",
       "      <td>0.286</td>\n",
       "      <td>...</td>\n",
       "      <td>1899.775</td>\n",
       "      <td>21.4</td>\n",
       "      <td>307.846</td>\n",
       "      <td>1.82</td>\n",
       "      <td>1.6</td>\n",
       "      <td>30.7</td>\n",
       "      <td>36.791</td>\n",
       "      <td>1.7</td>\n",
       "      <td>61.49</td>\n",
       "      <td>0.535</td>\n",
       "    </tr>\n",
       "    <tr>\n",
       "      <th>49509</th>\n",
       "      <td>ZWE</td>\n",
       "      <td>Africa</td>\n",
       "      <td>Zimbabwe</td>\n",
       "      <td>2020-10-12</td>\n",
       "      <td>8011.0</td>\n",
       "      <td>1.0</td>\n",
       "      <td>18.000</td>\n",
       "      <td>230.0</td>\n",
       "      <td>0.0</td>\n",
       "      <td>0.286</td>\n",
       "      <td>...</td>\n",
       "      <td>1899.775</td>\n",
       "      <td>21.4</td>\n",
       "      <td>307.846</td>\n",
       "      <td>1.82</td>\n",
       "      <td>1.6</td>\n",
       "      <td>30.7</td>\n",
       "      <td>36.791</td>\n",
       "      <td>1.7</td>\n",
       "      <td>61.49</td>\n",
       "      <td>0.535</td>\n",
       "    </tr>\n",
       "    <tr>\n",
       "      <th>49510</th>\n",
       "      <td>ZWE</td>\n",
       "      <td>Africa</td>\n",
       "      <td>Zimbabwe</td>\n",
       "      <td>2020-10-13</td>\n",
       "      <td>8021.0</td>\n",
       "      <td>10.0</td>\n",
       "      <td>17.571</td>\n",
       "      <td>230.0</td>\n",
       "      <td>0.0</td>\n",
       "      <td>0.286</td>\n",
       "      <td>...</td>\n",
       "      <td>1899.775</td>\n",
       "      <td>21.4</td>\n",
       "      <td>307.846</td>\n",
       "      <td>1.82</td>\n",
       "      <td>1.6</td>\n",
       "      <td>30.7</td>\n",
       "      <td>36.791</td>\n",
       "      <td>1.7</td>\n",
       "      <td>61.49</td>\n",
       "      <td>0.535</td>\n",
       "    </tr>\n",
       "    <tr>\n",
       "      <th>49511</th>\n",
       "      <td>ZWE</td>\n",
       "      <td>Africa</td>\n",
       "      <td>Zimbabwe</td>\n",
       "      <td>2020-10-14</td>\n",
       "      <td>8036.0</td>\n",
       "      <td>15.0</td>\n",
       "      <td>17.286</td>\n",
       "      <td>230.0</td>\n",
       "      <td>0.0</td>\n",
       "      <td>0.143</td>\n",
       "      <td>...</td>\n",
       "      <td>1899.775</td>\n",
       "      <td>21.4</td>\n",
       "      <td>307.846</td>\n",
       "      <td>1.82</td>\n",
       "      <td>1.6</td>\n",
       "      <td>30.7</td>\n",
       "      <td>36.791</td>\n",
       "      <td>1.7</td>\n",
       "      <td>61.49</td>\n",
       "      <td>0.535</td>\n",
       "    </tr>\n",
       "  </tbody>\n",
       "</table>\n",
       "<p>5 rows × 41 columns</p>\n",
       "</div>"
      ],
      "text/plain": [
       "      iso_code continent  location        date  total_cases  new_cases  \\\n",
       "49507      ZWE    Africa  Zimbabwe  2020-10-10       7994.0       43.0   \n",
       "49508      ZWE    Africa  Zimbabwe  2020-10-11       8010.0       16.0   \n",
       "49509      ZWE    Africa  Zimbabwe  2020-10-12       8011.0        1.0   \n",
       "49510      ZWE    Africa  Zimbabwe  2020-10-13       8021.0       10.0   \n",
       "49511      ZWE    Africa  Zimbabwe  2020-10-14       8036.0       15.0   \n",
       "\n",
       "       new_cases_smoothed  total_deaths  new_deaths  new_deaths_smoothed  \\\n",
       "49507              19.429         229.0         0.0                0.143   \n",
       "49508              17.857         230.0         1.0                0.286   \n",
       "49509              18.000         230.0         0.0                0.286   \n",
       "49510              17.571         230.0         0.0                0.286   \n",
       "49511              17.286         230.0         0.0                0.143   \n",
       "\n",
       "                ...             gdp_per_capita  extreme_poverty  \\\n",
       "49507           ...                   1899.775             21.4   \n",
       "49508           ...                   1899.775             21.4   \n",
       "49509           ...                   1899.775             21.4   \n",
       "49510           ...                   1899.775             21.4   \n",
       "49511           ...                   1899.775             21.4   \n",
       "\n",
       "       cardiovasc_death_rate  diabetes_prevalence  female_smokers  \\\n",
       "49507                307.846                 1.82             1.6   \n",
       "49508                307.846                 1.82             1.6   \n",
       "49509                307.846                 1.82             1.6   \n",
       "49510                307.846                 1.82             1.6   \n",
       "49511                307.846                 1.82             1.6   \n",
       "\n",
       "       male_smokers  handwashing_facilities  hospital_beds_per_thousand  \\\n",
       "49507          30.7                  36.791                         1.7   \n",
       "49508          30.7                  36.791                         1.7   \n",
       "49509          30.7                  36.791                         1.7   \n",
       "49510          30.7                  36.791                         1.7   \n",
       "49511          30.7                  36.791                         1.7   \n",
       "\n",
       "       life_expectancy  human_development_index  \n",
       "49507            61.49                    0.535  \n",
       "49508            61.49                    0.535  \n",
       "49509            61.49                    0.535  \n",
       "49510            61.49                    0.535  \n",
       "49511            61.49                    0.535  \n",
       "\n",
       "[5 rows x 41 columns]"
      ]
     },
     "execution_count": 7,
     "metadata": {},
     "output_type": "execute_result"
    }
   ],
   "source": [
    "#Removing rows with NaN for iso_code or continent\n",
    "df_clean = df[df['iso_code'].notna()]\n",
    "df_clean = df_clean[df_clean['continent'].notna()]\n",
    "df_clean.tail()"
   ]
  },
  {
   "cell_type": "markdown",
   "metadata": {},
   "source": [
    "Our data is now cleaned and ready for analysis."
   ]
  },
  {
   "cell_type": "markdown",
   "metadata": {},
   "source": [
    "***\n",
    "<div style=\"background-color:#EFEEDF;\">\n",
    "<span style=\"color:maroon\"><center> <h1> 3. Data Analysis </h1></center></span>"
   ]
  },
  {
   "cell_type": "markdown",
   "metadata": {},
   "source": [
    "## 3.1 Exploration of Trends in Germany"
   ]
  },
  {
   "cell_type": "markdown",
   "metadata": {},
   "source": [
    "### 3.1.1 Filtering for only data in Germany"
   ]
  },
  {
   "cell_type": "markdown",
   "metadata": {},
   "source": [
    "Our country of interest for this particular dataset is Germany. Hence, we will start by filtering only for data recorded in Germany."
   ]
  },
  {
   "cell_type": "code",
   "execution_count": 8,
   "metadata": {},
   "outputs": [
    {
     "data": {
      "text/html": [
       "<div>\n",
       "<style scoped>\n",
       "    .dataframe tbody tr th:only-of-type {\n",
       "        vertical-align: middle;\n",
       "    }\n",
       "\n",
       "    .dataframe tbody tr th {\n",
       "        vertical-align: top;\n",
       "    }\n",
       "\n",
       "    .dataframe thead th {\n",
       "        text-align: right;\n",
       "    }\n",
       "</style>\n",
       "<table border=\"1\" class=\"dataframe\">\n",
       "  <thead>\n",
       "    <tr style=\"text-align: right;\">\n",
       "      <th></th>\n",
       "      <th>iso_code</th>\n",
       "      <th>continent</th>\n",
       "      <th>location</th>\n",
       "      <th>date</th>\n",
       "      <th>total_cases</th>\n",
       "      <th>new_cases</th>\n",
       "      <th>new_cases_smoothed</th>\n",
       "      <th>total_deaths</th>\n",
       "      <th>new_deaths</th>\n",
       "      <th>new_deaths_smoothed</th>\n",
       "      <th>...</th>\n",
       "      <th>gdp_per_capita</th>\n",
       "      <th>extreme_poverty</th>\n",
       "      <th>cardiovasc_death_rate</th>\n",
       "      <th>diabetes_prevalence</th>\n",
       "      <th>female_smokers</th>\n",
       "      <th>male_smokers</th>\n",
       "      <th>handwashing_facilities</th>\n",
       "      <th>hospital_beds_per_thousand</th>\n",
       "      <th>life_expectancy</th>\n",
       "      <th>human_development_index</th>\n",
       "    </tr>\n",
       "  </thead>\n",
       "  <tbody>\n",
       "    <tr>\n",
       "      <th>11700</th>\n",
       "      <td>DEU</td>\n",
       "      <td>Europe</td>\n",
       "      <td>Germany</td>\n",
       "      <td>2019-12-31</td>\n",
       "      <td>0.0</td>\n",
       "      <td>0.0</td>\n",
       "      <td>NaN</td>\n",
       "      <td>0.0</td>\n",
       "      <td>0.0</td>\n",
       "      <td>NaN</td>\n",
       "      <td>...</td>\n",
       "      <td>45229.245</td>\n",
       "      <td>NaN</td>\n",
       "      <td>156.139</td>\n",
       "      <td>8.31</td>\n",
       "      <td>28.2</td>\n",
       "      <td>33.1</td>\n",
       "      <td>NaN</td>\n",
       "      <td>8.0</td>\n",
       "      <td>81.33</td>\n",
       "      <td>0.936</td>\n",
       "    </tr>\n",
       "    <tr>\n",
       "      <th>11701</th>\n",
       "      <td>DEU</td>\n",
       "      <td>Europe</td>\n",
       "      <td>Germany</td>\n",
       "      <td>2020-01-01</td>\n",
       "      <td>0.0</td>\n",
       "      <td>0.0</td>\n",
       "      <td>NaN</td>\n",
       "      <td>0.0</td>\n",
       "      <td>0.0</td>\n",
       "      <td>NaN</td>\n",
       "      <td>...</td>\n",
       "      <td>45229.245</td>\n",
       "      <td>NaN</td>\n",
       "      <td>156.139</td>\n",
       "      <td>8.31</td>\n",
       "      <td>28.2</td>\n",
       "      <td>33.1</td>\n",
       "      <td>NaN</td>\n",
       "      <td>8.0</td>\n",
       "      <td>81.33</td>\n",
       "      <td>0.936</td>\n",
       "    </tr>\n",
       "    <tr>\n",
       "      <th>11702</th>\n",
       "      <td>DEU</td>\n",
       "      <td>Europe</td>\n",
       "      <td>Germany</td>\n",
       "      <td>2020-01-02</td>\n",
       "      <td>0.0</td>\n",
       "      <td>0.0</td>\n",
       "      <td>NaN</td>\n",
       "      <td>0.0</td>\n",
       "      <td>0.0</td>\n",
       "      <td>NaN</td>\n",
       "      <td>...</td>\n",
       "      <td>45229.245</td>\n",
       "      <td>NaN</td>\n",
       "      <td>156.139</td>\n",
       "      <td>8.31</td>\n",
       "      <td>28.2</td>\n",
       "      <td>33.1</td>\n",
       "      <td>NaN</td>\n",
       "      <td>8.0</td>\n",
       "      <td>81.33</td>\n",
       "      <td>0.936</td>\n",
       "    </tr>\n",
       "    <tr>\n",
       "      <th>11703</th>\n",
       "      <td>DEU</td>\n",
       "      <td>Europe</td>\n",
       "      <td>Germany</td>\n",
       "      <td>2020-01-03</td>\n",
       "      <td>0.0</td>\n",
       "      <td>0.0</td>\n",
       "      <td>NaN</td>\n",
       "      <td>0.0</td>\n",
       "      <td>0.0</td>\n",
       "      <td>NaN</td>\n",
       "      <td>...</td>\n",
       "      <td>45229.245</td>\n",
       "      <td>NaN</td>\n",
       "      <td>156.139</td>\n",
       "      <td>8.31</td>\n",
       "      <td>28.2</td>\n",
       "      <td>33.1</td>\n",
       "      <td>NaN</td>\n",
       "      <td>8.0</td>\n",
       "      <td>81.33</td>\n",
       "      <td>0.936</td>\n",
       "    </tr>\n",
       "    <tr>\n",
       "      <th>11704</th>\n",
       "      <td>DEU</td>\n",
       "      <td>Europe</td>\n",
       "      <td>Germany</td>\n",
       "      <td>2020-01-04</td>\n",
       "      <td>0.0</td>\n",
       "      <td>0.0</td>\n",
       "      <td>NaN</td>\n",
       "      <td>0.0</td>\n",
       "      <td>0.0</td>\n",
       "      <td>NaN</td>\n",
       "      <td>...</td>\n",
       "      <td>45229.245</td>\n",
       "      <td>NaN</td>\n",
       "      <td>156.139</td>\n",
       "      <td>8.31</td>\n",
       "      <td>28.2</td>\n",
       "      <td>33.1</td>\n",
       "      <td>NaN</td>\n",
       "      <td>8.0</td>\n",
       "      <td>81.33</td>\n",
       "      <td>0.936</td>\n",
       "    </tr>\n",
       "  </tbody>\n",
       "</table>\n",
       "<p>5 rows × 41 columns</p>\n",
       "</div>"
      ],
      "text/plain": [
       "      iso_code continent location        date  total_cases  new_cases  \\\n",
       "11700      DEU    Europe  Germany  2019-12-31          0.0        0.0   \n",
       "11701      DEU    Europe  Germany  2020-01-01          0.0        0.0   \n",
       "11702      DEU    Europe  Germany  2020-01-02          0.0        0.0   \n",
       "11703      DEU    Europe  Germany  2020-01-03          0.0        0.0   \n",
       "11704      DEU    Europe  Germany  2020-01-04          0.0        0.0   \n",
       "\n",
       "       new_cases_smoothed  total_deaths  new_deaths  new_deaths_smoothed  \\\n",
       "11700                 NaN           0.0         0.0                  NaN   \n",
       "11701                 NaN           0.0         0.0                  NaN   \n",
       "11702                 NaN           0.0         0.0                  NaN   \n",
       "11703                 NaN           0.0         0.0                  NaN   \n",
       "11704                 NaN           0.0         0.0                  NaN   \n",
       "\n",
       "                ...             gdp_per_capita  extreme_poverty  \\\n",
       "11700           ...                  45229.245              NaN   \n",
       "11701           ...                  45229.245              NaN   \n",
       "11702           ...                  45229.245              NaN   \n",
       "11703           ...                  45229.245              NaN   \n",
       "11704           ...                  45229.245              NaN   \n",
       "\n",
       "       cardiovasc_death_rate  diabetes_prevalence  female_smokers  \\\n",
       "11700                156.139                 8.31            28.2   \n",
       "11701                156.139                 8.31            28.2   \n",
       "11702                156.139                 8.31            28.2   \n",
       "11703                156.139                 8.31            28.2   \n",
       "11704                156.139                 8.31            28.2   \n",
       "\n",
       "       male_smokers  handwashing_facilities  hospital_beds_per_thousand  \\\n",
       "11700          33.1                     NaN                         8.0   \n",
       "11701          33.1                     NaN                         8.0   \n",
       "11702          33.1                     NaN                         8.0   \n",
       "11703          33.1                     NaN                         8.0   \n",
       "11704          33.1                     NaN                         8.0   \n",
       "\n",
       "       life_expectancy  human_development_index  \n",
       "11700            81.33                    0.936  \n",
       "11701            81.33                    0.936  \n",
       "11702            81.33                    0.936  \n",
       "11703            81.33                    0.936  \n",
       "11704            81.33                    0.936  \n",
       "\n",
       "[5 rows x 41 columns]"
      ]
     },
     "execution_count": 8,
     "metadata": {},
     "output_type": "execute_result"
    }
   ],
   "source": [
    "warnings.filterwarnings('ignore')\n",
    "\n",
    "#Filtering for Germany\n",
    "df_germany = df_clean[df['location'].str.contains(\"Germany\")]\n",
    "df_germany.head()"
   ]
  },
  {
   "cell_type": "markdown",
   "metadata": {},
   "source": [
    "### 3.1.2 Total case number over time"
   ]
  },
  {
   "cell_type": "code",
   "execution_count": 9,
   "metadata": {
    "scrolled": true
   },
   "outputs": [
    {
     "data": {
      "image/png": "[encoded data removed]",
      "text/plain": [
       "<Figure size 432x288 with 1 Axes>"
      ]
     },
     "metadata": {
      "needs_background": "light"
     },
     "output_type": "display_data"
    }
   ],
   "source": [
    "warnings.filterwarnings(\"ignore\")\n",
    "\n",
    "sns.lineplot(   x = \"date\",\n",
    "                y = \"total_cases\",\n",
    "                data = df_germany)\n",
    "\n",
    "plt.title(\"Total Cases in Germany over Time (Dec 2019 - Oct 2020)\")\n",
    "plt.xlabel(\"Date\")\n",
    "plt.ylabel(\"Number of COVID-19 Cases\")\n",
    "plt.show()\n"
   ]
  },
  {
   "cell_type": "markdown",
   "metadata": {},
   "source": [
    "Due to the large number of days between December 2019 to October 2020, the *x*-axis labels appear very overcrowded. Nonetheless, we can take note of several observations:\n",
    "\n",
    "- The first-wave of COVID-19 cases in Germany resulted in it's steepest climb in COVID-19 cases. \n",
    "\n",
    "- The rate seemed to have significantly decreased afterwards, but more recently, it appears as if the number of total cases is rising much quicker, which could possibly be considered almost as a 'second-wave' that possibly some countries are experiencing.\n",
    "\n",
    "- There does not appear to be any plateauing effect yet experienced by Germany, as there appears to be consistent increase since the initial spike in cases with no stabilised period.\n",
    "\n",
    "In particular, the sudden spike, followed by a shallower rise then steep spike again suggests that the number of new cases in Germany showed an increasing trend, decreasing trend, and then another increasing trend recently."
   ]
  },
  {
   "cell_type": "markdown",
   "metadata": {},
   "source": [
    "### 3.1.3 New case numbers of time"
   ]
  },
  {
   "cell_type": "markdown",
   "metadata": {},
   "source": [
    "Let's continue our analysis (extending from last paragraph in 3.1.2) by investigating the number of new cases over time in Germany."
   ]
  },
  {
   "cell_type": "code",
   "execution_count": 10,
   "metadata": {
    "scrolled": false
   },
   "outputs": [
    {
     "data": {
      "image/png": "[encoded data removed]",
      "text/plain": [
       "<Figure size 432x288 with 1 Axes>"
      ]
     },
     "metadata": {
      "needs_background": "light"
     },
     "output_type": "display_data"
    }
   ],
   "source": [
    "warnings.filterwarnings(\"ignore\")\n",
    "\n",
    "sns.lineplot(   x = \"date\",\n",
    "                y = \"new_cases\",\n",
    "                data = df_germany)\n",
    "\n",
    "plt.title(\"New Cases in Germany over Time (Dec 2019 - Oct 2020)\")\n",
    "plt.xlabel(\"Date\")\n",
    "plt.ylabel(\"Number of new COVID-19 Cases\")\n",
    "plt.show()\n"
   ]
  },
  {
   "cell_type": "markdown",
   "metadata": {},
   "source": [
    "As seen, the number of new cases after the initial spike seemed to decrease, although the number of new cases is appearing to rise steadily at an increasing rate recently.\n",
    "\n",
    "This then makes us wonder whether this pattern in new case numbers are influenced by the German government response (e.g. school closures, lockdowns etc.)\n",
    "\n",
    "As such, we will now compare new case numbers of COVID-19 in Germany over time simultaneously with their `Government Response Strigency` over time in Germany."
   ]
  },
  {
   "cell_type": "markdown",
   "metadata": {},
   "source": [
    "### 3.1.4 New Cases and Governmenet Response Strigency over time"
   ]
  },
  {
   "cell_type": "code",
   "execution_count": 11,
   "metadata": {},
   "outputs": [
    {
     "data": {
      "image/png": "[encoded data removed]",
      "text/plain": [
       "<Figure size 432x288 with 2 Axes>"
      ]
     },
     "metadata": {
      "needs_background": "light"
     },
     "output_type": "display_data"
    }
   ],
   "source": [
    "warnings.filterwarnings(\"ignore\")\n",
    "\n",
    "#Creating lineplot of newcases\n",
    "ax = sns.lineplot(   x = \"date\",\n",
    "                y = \"new_cases\",\n",
    "                data = df_germany,\n",
    "                 legend = False)\n",
    "\n",
    "plt.xlabel(\"Date\")\n",
    "plt.ylabel(\"Number of new COVID-19 Cases\")\n",
    "\n",
    "ax2 = ax.twinx()\n",
    "\n",
    "#Creating lineplot of Government Stringency Index\n",
    "sns.lineplot(   x = \"date\",\n",
    "                y = \"stringency_index\",\n",
    "                data = df_germany,\n",
    "                legend = False,\n",
    "            color = 'r')\n",
    "\n",
    "plt.title(\"New Cases in Germany over Time and Strigency Index\")\n",
    "plt.ylabel(\"Government Response Stringency Index\")\n",
    "ax.legend(['New COVID-19 cases'])\n",
    "ax2.legend(['Stringency Index'], loc = \"upper left\")\n",
    "plt.show()"
   ]
  },
  {
   "cell_type": "markdown",
   "metadata": {},
   "source": [
    "As stated from the OWID Codebook, the Government Response Stringency Index is a \"composite measure based on 9 response indicators including school closures, workplace closures, and travel bans, rescaled to a value from 0 to 100 (100 = strictest response)\" \n",
    "\n",
    "As seen from the graph above, it appears that Germany's response to social lockdowns became very strict after the 'first-wave' climb in case numbers. As such, this could explain the drastic reduction in new cases that follows. However, as the strigency of social lockdowns in Germany became more lenient over time, the number of new cases start to rise rapidly again.\n",
    "\n",
    "However, it is also possible that the decline in new case numbers may be attributed in a decline in COVID-19 testing. As such, we will also explore the number of new tests done and see if it can explain the number of new cases in Germany."
   ]
  },
  {
   "cell_type": "markdown",
   "metadata": {},
   "source": [
    "### 3.1.5 Number of new cases and number of new tests over time"
   ]
  },
  {
   "cell_type": "code",
   "execution_count": 12,
   "metadata": {},
   "outputs": [
    {
     "data": {
      "image/png": "[encoded data removed]",
      "text/plain": [
       "<Figure size 432x288 with 2 Axes>"
      ]
     },
     "metadata": {
      "needs_background": "light"
     },
     "output_type": "display_data"
    }
   ],
   "source": [
    "warnings.filterwarnings(\"ignore\")\n",
    "\n",
    "#Creating lineplot of newcases\n",
    "ax = sns.lineplot(   x = \"date\",\n",
    "                y = \"new_cases\",\n",
    "                data = df_germany, legend = False)\n",
    "\n",
    "plt.xlabel(\"Date\")\n",
    "plt.ylabel(\"Number of new COVID-19 Cases\")\n",
    "\n",
    "ax2 = ax.twinx()\n",
    "\n",
    "#Creating lineplot of Government Stringency Index\n",
    "sns.lineplot(   x = \"date\",\n",
    "                y = \"new_tests_smoothed\",\n",
    "                data = df_germany, legend = False,\n",
    "            color = 'r')\n",
    "\n",
    "plt.title(\"Number of New Cases and New Tests in Germany over Time\")\n",
    "plt.ylabel(\"Number of new tests\")\n",
    "ax.legend(['New COVID-19 cases'])\n",
    "ax2.legend(['New COVID-19 tests'])\n",
    "plt.show()"
   ]
  },
  {
   "cell_type": "markdown",
   "metadata": {},
   "source": [
    "Note that the `new_tests` in Germany completely consisted of `NaN` values. This is probably because Germany does not report daily test numbers (unlike countries such as Australia), but instead rather reports rolling 7-day averages. Hence, the `new_tests_smoothed` variable was used.\n",
    "\n",
    "It is interesting to note that test-numbers were significantly higher after the first-initial 'wave' (peak). With such high number of testing after the first 'wave', it is most likely that the decline in new case numbers is due to Government Response Stringency rather than testing numbers."
   ]
  },
  {
   "cell_type": "markdown",
   "metadata": {},
   "source": [
    "## 3.2 Comparison of Germany to China and Australia"
   ]
  },
  {
   "cell_type": "markdown",
   "metadata": {},
   "source": [
    "After an individual analysis of Germany's response to COVID-19, it would be interesting to compare how it has handled the pandemic compared to Australia, as well as China.\n",
    "\n",
    "First, we will need to create additional DataFrames that only contain China and Australia."
   ]
  },
  {
   "cell_type": "code",
   "execution_count": 13,
   "metadata": {},
   "outputs": [],
   "source": [
    "#Filtering for Australia\n",
    "df_aus = df_clean[df['location'].str.contains(\"Australia\")]\n",
    "\n",
    "#Filtering for China\n",
    "df_china = df_clean[df['location'].str.contains(\"China\")]"
   ]
  },
  {
   "cell_type": "markdown",
   "metadata": {},
   "source": [
    "### 3.2.1 Total case numbers of time (per million)"
   ]
  },
  {
   "cell_type": "markdown",
   "metadata": {},
   "source": [
    "First, we'll have a look at the total number of cases over time across these countries. We will use the total confirmed cases of COVID-19 per 1,000,000 people to account for the different populations of each country."
   ]
  },
  {
   "cell_type": "code",
   "execution_count": 14,
   "metadata": {},
   "outputs": [
    {
     "data": {
      "image/png": "[encoded data removed]",
      "text/plain": [
       "<Figure size 432x288 with 1 Axes>"
      ]
     },
     "metadata": {
      "needs_background": "light"
     },
     "output_type": "display_data"
    }
   ],
   "source": [
    "plt.plot(df_germany['date'], df_germany['total_cases_per_million'], label=\"Germany\")\n",
    "plt.plot(df_aus['date'], df_aus['total_cases_per_million'], label=\"Australia\")\n",
    "plt.plot(df_china['date'], df_china['total_cases_per_million'], label=\"China\")\n",
    "plt.plot()\n",
    "\n",
    "plt.xlabel(\"Date\")\n",
    "plt.ylabel(\"Total Cases over Time (per million)\")\n",
    "plt.title(\"Total Cases of COVID-19 (per million)\")\n",
    "plt.legend()\n",
    "plt.show()"
   ]
  },
  {
   "cell_type": "markdown",
   "metadata": {},
   "source": [
    "From the graph above, we can see that Germany has had the highest density of COVID-19 cases compared to Australia and China across a significant time period.\n",
    "\n",
    "Interestingly, China's total cases over time (per million) is smaller than Australia, of which has mostly been lauded for its handling of the COVID-19 within its country. This could be attributed to China's very large population and the spread of COVID-19 mostly restricted to areas around the Wuhan region (location of first outbreak).\n",
    "\n",
    "For Australia, it can be seen that there are two rather steep climb in total case numbers. The first steep climb can be attributed to the first 'wave' of the virus in Australia, which predominantly affected NSW. However, the second climb can be associated to the second 'wave' of the virus, which predominantly affected Victoria.\n",
    "\n",
    "Overall, it is rather interesting to see the large discrepancy in case numbers between Germany compared to Australia and China. We will now compare the Stringency Index for these countries to see whether Australia or China had greater restrictions than Germany."
   ]
  },
  {
   "cell_type": "markdown",
   "metadata": {},
   "source": [
    "### 3.2.2 Government Response Stringency Index"
   ]
  },
  {
   "cell_type": "code",
   "execution_count": 15,
   "metadata": {},
   "outputs": [
    {
     "data": {
      "image/png": "[encoded data removed]",
      "text/plain": [
       "<Figure size 432x288 with 1 Axes>"
      ]
     },
     "metadata": {
      "needs_background": "light"
     },
     "output_type": "display_data"
    }
   ],
   "source": [
    "plt.plot(df_germany['date'], df_germany['stringency_index'], label=\"Germany\")\n",
    "plt.plot(df_aus['date'], df_aus['stringency_index'], label=\"Australia\")\n",
    "plt.plot(df_china['date'], df_china['stringency_index'], label=\"China\")\n",
    "plt.plot()\n",
    "\n",
    "plt.xlabel(\"Date\")\n",
    "plt.ylabel(\"Government Response Strigency Index\")\n",
    "plt.title(\"Government Response Strigency Index (1-100)\")\n",
    "plt.legend()\n",
    "plt.show()"
   ]
  },
  {
   "cell_type": "markdown",
   "metadata": {},
   "source": [
    "Interestingly, prior to the second steep rise in cases in Germany (second 'wave'), its Strigency Index is rather comparable to Australia and China on first glance.\n",
    "\n",
    "As such, this could possibly mean that Government restrictions were not as effective in containing the spread of COVID-19. Reasons could be spread from neighbouring countries in Europe or perhaps breaches in regulations by the public."
   ]
  },
  {
   "cell_type": "markdown",
   "metadata": {},
   "source": [
    "### 3.2.3 New Deaths (per million)"
   ]
  },
  {
   "cell_type": "markdown",
   "metadata": {},
   "source": [
    "Let's now compare the number of new deaths (per million) between the countries, which can give insight into disease management strategies of the countries, or potentially different population demographics (since older people are likely to be more vulnerable to the disease)."
   ]
  },
  {
   "cell_type": "code",
   "execution_count": 16,
   "metadata": {},
   "outputs": [
    {
     "data": {
      "image/png": "[encoded data removed]",
      "text/plain": [
       "<Figure size 432x288 with 1 Axes>"
      ]
     },
     "metadata": {
      "needs_background": "light"
     },
     "output_type": "display_data"
    }
   ],
   "source": [
    "plt.plot(df_germany['date'], df_germany['new_deaths_per_million'], label=\"Germany\")\n",
    "plt.plot(df_aus['date'], df_aus['new_deaths_per_million'], label=\"Australia\")\n",
    "plt.plot(df_china['date'], df_china['new_deaths_per_million'], label=\"China\")\n",
    "plt.plot()\n",
    "\n",
    "plt.xlabel(\"Date\")\n",
    "plt.ylabel(\"Number of New Deaths\")\n",
    "plt.title(\"Number of New Deaths (per million)\")\n",
    "plt.legend()\n",
    "plt.show()"
   ]
  },
  {
   "cell_type": "markdown",
   "metadata": {},
   "source": [
    "From the graph above, it can be seen that Germany had a huge number of new deaths within its first 'wave' of cases. This was probably the case since hospitals would have been overloaded and would have had to adapt to a sunddenly changing situation. However, upon the second 'wave' of cases, the healthcare system would probably be more adapted and can control the mortality rate of the disease.\n",
    "\n",
    "However, interestingly, Australia's death rate for COVID-19 increased dramatically upon the second 'wave' that primarily affected Victoria. This could probably be explained through how the second 'wave' in Victoria primarily affected aged-care facilities, containing eldery residents that are very vulnerable to the disease."
   ]
  },
  {
   "cell_type": "markdown",
   "metadata": {},
   "source": [
    "<span style=\"color:#0808D6\"><center> <h1> <font size=\"5\"> End of Notebook  </font> </h1></center></span> \n",
    "***"
   ]
  },
  {
   "cell_type": "code",
   "execution_count": null,
   "metadata": {},
   "outputs": [],
   "source": []
  }
 ],
 "metadata": {
  "kernelspec": {
   "display_name": "Python 3",
   "language": "python",
   "name": "python3"
  },
  "language_info": {
   "codemirror_mode": {
    "name": "ipython",
    "version": 3
   },
   "file_extension": ".py",
   "mimetype": "text/x-python",
   "name": "python",
   "nbconvert_exporter": "python",
   "pygments_lexer": "ipython3",
   "version": "3.8.3"
  }
 },
 "nbformat": 4,
 "nbformat_minor": 2
}
