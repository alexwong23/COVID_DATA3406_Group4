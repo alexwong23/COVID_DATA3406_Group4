{
  "nbformat": 4,
  "nbformat_minor": 0,
  "metadata": {
    "colab": {
      "name": "Product Notebook",
      "provenance": []
    },
    "kernelspec": {
      "name": "python3",
      "display_name": "Python 3"
    }
  },
  "cells": [
    {
      "cell_type": "markdown",
      "metadata": {
        "id": "cc0_qENQUJIL"
      },
      "source": [
        "# Aim"
      ]
    },
    {
      "cell_type": "markdown",
      "metadata": {
        "id": "Jl3ZFL4jUPmx"
      },
      "source": [
        "## Driving question"
      ]
    },
    {
      "cell_type": "markdown",
      "metadata": {
        "id": "utNdIW_eWGij"
      },
      "source": [
        "## Background"
      ]
    },
    {
      "cell_type": "markdown",
      "metadata": {
        "id": "53OTjfxyUV7O"
      },
      "source": [
        "# Ethical Analysis"
      ]
    },
    {
      "cell_type": "markdown",
      "metadata": {
        "id": "_pSw6izGUZLV"
      },
      "source": [
        "## Purpose"
      ]
    },
    {
      "cell_type": "markdown",
      "metadata": {
        "id": "KHCoFAqJUarc"
      },
      "source": [
        "## Raw data"
      ]
    },
    {
      "cell_type": "markdown",
      "metadata": {
        "id": "HWWsA4OPUdKE"
      },
      "source": [
        "## Meaning and use of results"
      ]
    },
    {
      "cell_type": "markdown",
      "metadata": {
        "id": "irGDsoBoUe0p"
      },
      "source": [
        "# Data engineering"
      ]
    },
    {
      "cell_type": "markdown",
      "metadata": {
        "id": "Tkigl9jRUpKK"
      },
      "source": [
        "# Analysis"
      ]
    },
    {
      "cell_type": "markdown",
      "metadata": {
        "id": "DSYZ-EllVwbw"
      },
      "source": [
        "## Global"
      ]
    },
    {
      "cell_type": "markdown",
      "metadata": {
        "id": "gXf3tCoCVx4p"
      },
      "source": [
        "## Country-based"
      ]
    },
    {
      "cell_type": "markdown",
      "metadata": {
        "id": "Rx-ifOYhV0Fp"
      },
      "source": [
        "## Stringency index"
      ]
    },
    {
      "cell_type": "markdown",
      "metadata": {
        "id": "CGZiAexRV3oa"
      },
      "source": [
        "## Testing"
      ]
    },
    {
      "cell_type": "markdown",
      "metadata": {
        "id": "cPMKlSyZV61j"
      },
      "source": [
        "## Medical Resources"
      ]
    },
    {
      "cell_type": "markdown",
      "metadata": {
        "id": "BbUv2UzDV9eL"
      },
      "source": [
        "## Age"
      ]
    },
    {
      "cell_type": "markdown",
      "metadata": {
        "id": "F46zluk5UuAB"
      },
      "source": [
        ""
      ]
    }
  ]
}